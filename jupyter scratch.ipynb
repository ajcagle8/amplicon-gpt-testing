{
 "cells": [
  {
   "cell_type": "code",
   "execution_count": null,
   "metadata": {},
   "outputs": [],
   "source": [
    "import tensorflow as tf\n",
    "import keras_nlp\n",
    "import numpy as np"
   ]
  },
  {
   "cell_type": "code",
   "execution_count": null,
   "metadata": {},
   "outputs": [],
   "source": [
    "input = np.ones((16, 4, 150))\n",
    "input[:, 3:, :] = 0\n",
    "input[:, 1:, 100:] = 0\n",
    "input[12:] = 0 \n",
    "input = tf.constant(input)\n",
    "sequence_masks = tf.cast(tf.not_equal(input, 0), tf.float32)\n",
    "indicies = tf.multiply(tf.ones_like(sequence_masks), tf.range(0, 150, dtype=tf.float32))\n",
    "indicies = tf.multiply(indicies, sequence_masks)\n",
    "indicies = tf.argmax(indicies, axis=2)\n",
    "indicies\n",
    "emb = tf.keras.layers.Embedding(5, 128, input_length=150, mask_zero=False)\n",
    "pos_embedding = keras_nlp.layers.PositionEmbedding(sequence_length=150)\n",
    "\n",
    "output = emb(input)\n",
    "pos_emb = pos_embedding(output)\n",
    "output = tf.add(output, pos_emb)\n",
    "output"
   ]
  },
  {
   "cell_type": "code",
   "execution_count": null,
   "metadata": {},
   "outputs": [],
   "source": [
    "lstm = tf.keras.layers.LSTM(128, return_sequences=True)\n",
    "\n",
    "@tf.function()\n",
    "def map_lstm(inputs):\n",
    "    input, indicies = inputs\n",
    "    tf.print(indicies)\n",
    "    output = lstm(input)\n",
    "    return (tf.gather(output, indices=indicies, batch_dims=1), indicies)\n",
    "\n",
    "map_input = tf.stack([output, indicies])\n",
    "tf.map_fn(map_lstm, map_input, fn_output_signature=(tf.TensorSpec(dtype=tf.float32, shape=[None, 128]),\n",
    "    tf.TensorSpec(dtype=tf.int64, shape=[None])))\n"
   ]
  },
  {
   "cell_type": "code",
   "execution_count": null,
   "metadata": {},
   "outputs": [],
   "source": [
    "fn=lambda t: map_lstm(t)\n",
    "@tf.function\n",
    "def func(elems):\n",
    "  return tf.map_fn(fn, elems, parallel_iterations=3, fn_output_signature=tf.TensorSpec(dtype=tf.float32, shape=[None, 128]))\n",
    "func((output, indicies))\n"
   ]
  },
  {
   "cell_type": "code",
   "execution_count": null,
   "metadata": {},
   "outputs": [],
   "source": []
  }
 ],
 "metadata": {
  "kernelspec": {
   "display_name": "tf-with-gpu",
   "language": "python",
   "name": "python3"
  },
  "language_info": {
   "codemirror_mode": {
    "name": "ipython",
    "version": 3
   },
   "file_extension": ".py",
   "mimetype": "text/x-python",
   "name": "python",
   "nbconvert_exporter": "python",
   "pygments_lexer": "ipython3",
   "version": "3.9.18"
  }
 },
 "nbformat": 4,
 "nbformat_minor": 2
}
